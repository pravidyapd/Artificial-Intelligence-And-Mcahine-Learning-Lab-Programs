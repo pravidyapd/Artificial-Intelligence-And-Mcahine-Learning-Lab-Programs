{
 "cells": [
  {
   "cell_type": "code",
   "execution_count": 16,
   "id": "5ccdd720",
   "metadata": {},
   "outputs": [],
   "source": [
    "import random\n",
    "import numpy as np"
   ]
  },
  {
   "cell_type": "code",
   "execution_count": 17,
   "id": "c5b41703",
   "metadata": {},
   "outputs": [],
   "source": [
    "\n",
    "def init_population(pop_size, genome_size):  # initialize the population of bit vectors\n",
    "    return [random.choices(range(2), k=genome_size) for _ in range(pop_size)]"
   ]
  },
  {
   "cell_type": "code",
   "execution_count": 18,
   "id": "6ff7f8a5",
   "metadata": {},
   "outputs": [],
   "source": [
    "def fitness(individual):  # an individual's fitness is the number of 1s\n",
    "    return sum(individual)\n"
   ]
  },
  {
   "cell_type": "code",
   "execution_count": 19,
   "id": "a225b4ce",
   "metadata": {},
   "outputs": [],
   "source": [
    "def selection(population, fitnesses):  # tournament selection\n",
    "    tournament = random.sample(range(len(population)), k=3)\n",
    "    tournament_fitnesses = [fitnesses[i] for i in tournament]\n",
    "    winner_index = tournament[np.argmax(tournament_fitnesses)]\n",
    "    return population[winner_index]"
   ]
  },
  {
   "cell_type": "code",
   "execution_count": 20,
   "id": "fa9fdb1d",
   "metadata": {},
   "outputs": [],
   "source": [
    "def crossover(parent1, parent2):  # single-point crossover\n",
    "    xo_point = random.randint(1, len(parent1) - 1)\n",
    "    return ([parent1[:xo_point] + parent2[xo_point:],\n",
    "             parent2[:xo_point] + parent1[xo_point:]])\n",
    "\n",
    "def mutation(individual):  # bitwise mutation with probability 0.1\n",
    "    for i in range(len(individual)):\n",
    "        if random.random() < 0.1:\n",
    "            individual = individual[:i] + [1-individual[i]] + individual[i + 1:]\n",
    "    return individual\n"
   ]
  },
  {
   "cell_type": "code",
   "execution_count": 21,
   "id": "f6afad8c",
   "metadata": {},
   "outputs": [
    {
     "name": "stdout",
     "output_type": "stream",
     "text": [
      "Generation  0 \n",
      " [([1, 1, 1, 0, 1], 4), ([0, 0, 0, 0, 1], 1), ([1, 0, 0, 0, 0], 1), ([0, 0, 0, 0, 0], 0), ([0, 1, 1, 0, 0], 2), ([1, 1, 1, 0, 1], 4)]\n",
      "Generation  1 \n",
      " [([0, 1, 1, 0, 1], 3), ([1, 1, 1, 0, 0], 3), ([1, 1, 1, 1, 1], 5), ([1, 1, 1, 0, 1], 4), ([1, 1, 0, 1, 1], 4), ([1, 1, 1, 0, 0], 3)]\n",
      "Generation  2 \n",
      " [([1, 0, 1, 1, 1], 4), ([1, 1, 1, 1, 0], 4), ([1, 1, 1, 1, 1], 5), ([1, 0, 0, 1, 1], 3), ([0, 1, 1, 1, 1], 4), ([1, 1, 1, 0, 1], 4)]\n",
      "Generation  3 \n",
      " [([1, 1, 1, 1, 1], 5), ([0, 0, 1, 1, 0], 2), ([1, 1, 0, 0, 1], 3), ([1, 0, 1, 1, 1], 4), ([1, 1, 1, 1, 1], 5), ([0, 1, 1, 1, 0], 3)]\n",
      "Generation  4 \n",
      " [([1, 1, 1, 1, 1], 5), ([1, 1, 1, 1, 1], 5), ([1, 0, 0, 1, 0], 2), ([1, 1, 1, 1, 1], 5), ([1, 1, 1, 0, 1], 4), ([1, 1, 1, 1, 1], 5)]\n",
      "Generation  5 \n",
      " [([1, 1, 1, 1, 1], 5), ([1, 1, 1, 1, 1], 5), ([1, 1, 0, 1, 1], 4), ([1, 1, 1, 0, 1], 4), ([1, 1, 1, 1, 0], 4), ([1, 1, 1, 1, 1], 5)]\n",
      "Generation  6 \n",
      " [([1, 1, 1, 1, 1], 5), ([0, 1, 1, 0, 1], 3), ([1, 1, 1, 1, 1], 5), ([1, 1, 1, 1, 1], 5), ([1, 1, 1, 1, 1], 5), ([1, 1, 1, 1, 0], 4)]\n",
      "Generation  7 \n",
      " [([1, 1, 1, 1, 0], 4), ([1, 1, 1, 1, 0], 4), ([1, 1, 1, 1, 0], 4), ([1, 1, 1, 1, 0], 4), ([1, 1, 1, 1, 1], 5), ([1, 1, 1, 1, 1], 5)]\n",
      "Generation  8 \n",
      " [([1, 0, 1, 0, 0], 2), ([1, 1, 1, 1, 1], 5), ([0, 1, 1, 1, 1], 4), ([1, 1, 1, 1, 1], 5), ([1, 0, 0, 1, 1], 3), ([1, 0, 1, 1, 1], 4)]\n",
      "Generation  9 \n",
      " [([1, 1, 1, 0, 1], 4), ([0, 1, 1, 1, 1], 4), ([1, 1, 1, 0, 1], 4), ([1, 1, 1, 1, 1], 5), ([1, 1, 1, 1, 0], 4), ([0, 1, 0, 1, 1], 3)]\n"
     ]
    }
   ],
   "source": [
    "pop_size, genome_size = 6, 5\n",
    "population = init_population(pop_size, genome_size)  # generation 0\n",
    "\n",
    "for gen in range(10):\n",
    "    fitnesses = [fitness(individual) for individual in population]\n",
    "    print('Generation ', gen, '\\n', list(zip(population, fitnesses)))\n",
    "    nextgen_population = []\n",
    "    for i in range(int(pop_size / 2)):\n",
    "        parent1 = selection(population, fitnesses)  # select first parent\n",
    "        parent2 = selection(population, fitnesses)  # select second parent\n",
    "        offspring1, offspring2 = crossover(parent1, parent2)  # perform crossover between both parents\n",
    "        nextgen_population += [mutation(offspring1), mutation(offspring2)]  # mutate offspring\n",
    "    population = nextgen_population"
   ]
  }
 ],
 "metadata": {
  "kernelspec": {
   "display_name": "Python 3 (ipykernel)",
   "language": "python",
   "name": "python3"
  },
  "language_info": {
   "codemirror_mode": {
    "name": "ipython",
    "version": 3
   },
   "file_extension": ".py",
   "mimetype": "text/x-python",
   "name": "python",
   "nbconvert_exporter": "python",
   "pygments_lexer": "ipython3",
   "version": "3.10.9"
  }
 },
 "nbformat": 4,
 "nbformat_minor": 5
}
